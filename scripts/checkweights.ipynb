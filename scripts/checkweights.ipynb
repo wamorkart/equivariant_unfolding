{
 "cells": [
  {
   "cell_type": "code",
   "execution_count": 1,
   "id": "524a4884-126f-4558-9fd4-cb60d27eeebf",
   "metadata": {
    "tags": []
   },
   "outputs": [],
   "source": [
    "%load_ext autoreload\n",
    "%autoreload 2"
   ]
  },
  {
   "cell_type": "code",
   "execution_count": null,
   "id": "04bc9fb8-6d12-4e2f-a1ca-0ce22757176b",
   "metadata": {
    "tags": []
   },
   "outputs": [],
   "source": [
    "import h5py\n",
    "import torch\n",
    "import torch.nn.functional as F\n",
    "from torchinfo import summary\n",
    "from sklearn.model_selection import train_test_split\n",
    "\n",
    "import numpy as np\n",
    "import uproot\n",
    "import awkward as ak\n",
    "import matplotlib.pyplot as plt\n",
    "\n",
    "from tqdm.notebook import tqdm\n",
    "import pandas as pd\n",
    "import matplotlib.gridspec as gs"
   ]
  },
  {
   "cell_type": "markdown",
   "id": "68aac032-4e86-47d8-9555-7518cd002237",
   "metadata": {},
   "source": [
    "## Load pelican weights"
   ]
  },
  {
   "cell_type": "code",
   "execution_count": null,
   "id": "ce4ae1ad-ba5c-4c78-a706-d0ddfdbe71a6",
   "metadata": {
    "tags": []
   },
   "outputs": [],
   "source": [
    "def getprob_pelican(inputfile):\n",
    "    prediction=torch.load(inputfile,\"cpu\")\n",
    "    logits_MC = prediction['predict'][:, 1]\n",
    "    logits_PD = prediction['predict'][:, 0]\n",
    "    prob_MC = torch.sigmoid(logits_MC)\n",
    "    prob_PD = torch.sigmoid(logits_PD)\n",
    "    return prob_MC, prob_PD"
   ]
  },
  {
   "cell_type": "code",
   "execution_count": null,
   "id": "4c2f504a-25f3-4df3-860c-068d283f23d5",
   "metadata": {
    "tags": []
   },
   "outputs": [],
   "source": [
    "in_dir = \"/global/cfs/cdirs/m3246/twamorka/omnifold_atlas/PELICAN/predict/\"\n",
    "in_file = \"muonlevel1_samedata2.best.test.pt\""
   ]
  },
  {
   "cell_type": "code",
   "execution_count": null,
   "id": "a4e44d4b-f514-4977-9a76-cefb100d3a78",
   "metadata": {
    "tags": []
   },
   "outputs": [],
   "source": [
    "prob_MC, prob_PD = getprob_pelican(indir+in_file)"
   ]
  },
  {
   "cell_type": "markdown",
   "id": "360827f3-7b53-4cf7-8b58-cafdd44c17d5",
   "metadata": {},
   "source": [
    "## Plot MC and PD probability"
   ]
  },
  {
   "cell_type": "code",
   "execution_count": null,
   "id": "58cd9fdd-9473-4bbc-9569-8386f4e0e144",
   "metadata": {
    "tags": []
   },
   "outputs": [],
   "source": [
    "plt.hist(prob_MC, bins=np.linspace(0,1,100)"
   ]
  },
  {
   "cell_type": "code",
   "execution_count": null,
   "id": "73467055-2e98-4a17-9d13-e420514a80c5",
   "metadata": {},
   "outputs": [],
   "source": [
    "plt.hist(prob_PD, bins=np.linspace(0,1,100)"
   ]
  }
 ],
 "metadata": {
  "kernelspec": {
   "display_name": "zjets",
   "language": "python",
   "name": "zjets"
  },
  "language_info": {
   "codemirror_mode": {
    "name": "ipython",
    "version": 3
   },
   "file_extension": ".py",
   "mimetype": "text/x-python",
   "name": "python",
   "nbconvert_exporter": "python",
   "pygments_lexer": "ipython3",
   "version": "3.11.5"
  }
 },
 "nbformat": 4,
 "nbformat_minor": 5
}
